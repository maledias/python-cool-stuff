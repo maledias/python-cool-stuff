{
  "nbformat": 4,
  "nbformat_minor": 0,
  "metadata": {
    "colab": {
      "name": "assert.ipynb",
      "provenance": [],
      "collapsed_sections": [],
      "toc_visible": true,
      "authorship_tag": "ABX9TyMil5o2aO3tY8+8CsTcarIr",
      "include_colab_link": true
    },
    "kernelspec": {
      "name": "python3",
      "display_name": "Python 3"
    },
    "language_info": {
      "name": "python"
    }
  },
  "cells": [
    {
      "cell_type": "markdown",
      "metadata": {
        "id": "view-in-github",
        "colab_type": "text"
      },
      "source": [
        "<a href=\"https://colab.research.google.com/github/maledias/python-cool-stuff/blob/main/assert.ipynb\" target=\"_parent\"><img src=\"https://colab.research.google.com/assets/colab-badge.svg\" alt=\"Open In Colab\"/></a>"
      ]
    },
    {
      "cell_type": "markdown",
      "metadata": {
        "id": "KBi_eW4U8Dld"
      },
      "source": [
        "# Assertions\n",
        "\n",
        "Nesse notebook, vou tentar explicar e demonstrar como funciona o comando `assert` do Python. \n",
        "\n",
        "Esse comando é bastante ignorado por desenvolvedores Python, mesmo por programadores experientes, então saber como utilizá-lo em seus códigos pode fazer você se destacar como programador."
      ]
    },
    {
      "cell_type": "markdown",
      "metadata": {
        "id": "a9GB-j018ZMk"
      },
      "source": [
        "## Resumo\n",
        "\n",
        "O comando `assert` é uma ferramenta de debug que simplesmente **testa uma condição**. \n",
        "\n",
        "Se a condição retornar `True`, nada acontece.\n",
        "\n",
        "Se a condição retornar `False`, uma exceção do tipo `AssertionError` será gerada, e assim você sabe que algo bem errado aconteceu no seu código."
      ]
    },
    {
      "cell_type": "markdown",
      "metadata": {
        "id": "dUH0pV-K9K4J"
      },
      "source": [
        "## Como utilizar\n",
        "\n",
        "Para usar o comando `assert` é só pensar numa condição que deve **sempre ser satisfeita**. Aí é só fazer o seguinte:\n",
        "\n",
        "```python\n",
        "assert condicao \n",
        "\n",
        "# Opcionalmente, podemos especificar uma mensagem de erro a ser mostrada juntamente com a exceção:\n",
        "assert condicao, \"mensagem de erro\"\n",
        "\n",
        "```\n",
        "\n",
        "* Se `condicao = True` -> Nada acontece, o programa continua a sua execução normalmente\n",
        "* Se `condicao = False` -> Uma exceção do tipo `AssertionError` será gerada\n"
      ]
    },
    {
      "cell_type": "markdown",
      "metadata": {
        "id": "YWY7j2rN9rOZ"
      },
      "source": [
        "## Exemplo\n",
        "\n",
        "Imagine, por exemplo, que você vai programar uma função que calcula o valor da comissão de  um vendedor. "
      ]
    },
    {
      "cell_type": "code",
      "metadata": {
        "id": "f4rKIvPc-q-Z"
      },
      "source": [
        "# Os vendedores são representados através da seguinte classe escrita em Python\n",
        "\n",
        "class Vendedor:\n",
        "    \"\"\"Representa um vendedor\"\"\"\n",
        "\n",
        "    def __init__(self, nome, id_funcionario, porcentagem_comissao):\n",
        "        \"\"\"Inicializa os atributos da classe\"\"\"\n",
        "\n",
        "        self.nome = nome\n",
        "        self.id = id_funcionario\n",
        "        self.porcentagem_comissao = porcentagem_comissao"
      ],
      "execution_count": 55,
      "outputs": []
    },
    {
      "cell_type": "markdown",
      "metadata": {
        "id": "tNSQK0CIO4hJ"
      },
      "source": [
        "Agora, vamos escrever uma função que realiza o cálculo da comissão de acordo com o valor de uma venda realizada e o valor da porcentagem de venda do vendedor."
      ]
    },
    {
      "cell_type": "code",
      "metadata": {
        "id": "vkzKE0PVISQc"
      },
      "source": [
        "def comissao(vendedor, venda):\n",
        "    \"\"\"\n",
        "    Calcula o valor da comissão de venda de acordo com o valor da venda e \n",
        "    porcentagem de comissão\n",
        "    \"\"\"\n",
        "    \n",
        "    comissao = venda * (vendedor.porcentagem_comissao / 100.0)\n",
        "\n",
        "    return comissao"
      ],
      "execution_count": 57,
      "outputs": []
    },
    {
      "cell_type": "markdown",
      "metadata": {
        "id": "jPTc29lW-9Dq"
      },
      "source": [
        "Vamos ver se tudo está funcionando como a gente espera..."
      ]
    },
    {
      "cell_type": "code",
      "metadata": {
        "colab": {
          "base_uri": "https://localhost:8080/"
        },
        "id": "hYRZxz3_Dq7z",
        "outputId": "888c2847-7bac-45dc-d695-4a1b7778233a"
      },
      "source": [
        "# Testando a função\n",
        "\n",
        "# Primeiro, vamos criar um vendedor chamado João da Silva, que já é um vendedor sênior\n",
        "vendedor_joao = Vendedor(\"João da Silva\", \"12345\", 25)\n",
        "\n",
        "# Hoje o João fez uma venda de R$15000,00\n",
        "valor_da_venda = 15000\n",
        "\n",
        "# Agora, vamos calcular a comissão\n",
        "comissao(vendedor_joao, valor_da_venda)"
      ],
      "execution_count": 58,
      "outputs": [
        {
          "output_type": "execute_result",
          "data": {
            "text/plain": [
              "3750.0"
            ]
          },
          "metadata": {},
          "execution_count": 58
        }
      ]
    },
    {
      "cell_type": "markdown",
      "metadata": {
        "id": "yvzVNzyqELpJ"
      },
      "source": [
        "Aparentemente, a função está funcionando de forma correta. \n",
        "\n",
        "Porém, e se a função for chamada com um valor de venda negativa? \n",
        "\n",
        "E se o valor da comissão do vendedor não estiver entre 0 e 100%?\n",
        "\n",
        "Vamos passar alguns valores incorretos para a função e ver o que acontece.\n",
        "\n",
        "**OBS:**\n",
        "Essas condições parecem absurdas, e de fato são se você pensar nesse código somente dentro do contexto deste notebook. Mas você precisa se lembrar de que os valores passados para uma função poderão ser o retorno de uma outra função, que pode receber dados armazenados em um banco de dados em outro computador, que pode ser gerenciado por outro time de programadores, que podem ser funcionários de uma outra empresa, que pode estar em outro país, e por aí vai..."
      ]
    },
    {
      "cell_type": "code",
      "metadata": {
        "colab": {
          "base_uri": "https://localhost:8080/"
        },
        "id": "zfiGibYPFlFU",
        "outputId": "984ae80b-2d35-4891-ae04-6740b14b558f"
      },
      "source": [
        "# Passando um valor de venda negativo\n",
        "venda_negativa = -9000\n",
        "\n",
        "# Cálculo da comissão, nenhum erro será gerado. Porém, a função retornará \n",
        "# um valor de comissão negativo. Um péssimo dia para o vendedor João, que \n",
        "# deverá pagar por ter feito uma venda\n",
        "comissao(vendedor_joao, venda_negativa)"
      ],
      "execution_count": 69,
      "outputs": [
        {
          "output_type": "execute_result",
          "data": {
            "text/plain": [
              "-2250.0"
            ]
          },
          "metadata": {},
          "execution_count": 69
        }
      ]
    },
    {
      "cell_type": "code",
      "metadata": {
        "colab": {
          "base_uri": "https://localhost:8080/"
        },
        "id": "WYK13RinP178",
        "outputId": "a14bf5d3-804a-4709-dc62-6c5f87514f7b"
      },
      "source": [
        "# Agora, vamos criar um vendedor que possui uma porcentagem de venda maior do \n",
        "# que 100\n",
        "vendedora_julia = Vendedor(\"Julia Souza\", 54321, 300)\n",
        "\n",
        "# A Júlia realizou uma venda de 6000\n",
        "venda_julia = 6000\n",
        "\n",
        "# Cálculo da comissão. Mais uma vez, nenhum erro será gerado. Porém, o valor da \n",
        "# comissão da Júlia será maior do que o valor da venda que ela fez. \n",
        "# É claro que isso seria ótimo para a Júlia, porém, claramente representa uma \n",
        "# situação absurda\n",
        "comissao(vendedora_julia, venda_julia)"
      ],
      "execution_count": 70,
      "outputs": [
        {
          "output_type": "execute_result",
          "data": {
            "text/plain": [
              "18000.0"
            ]
          },
          "metadata": {},
          "execution_count": 70
        }
      ]
    },
    {
      "cell_type": "markdown",
      "metadata": {
        "id": "lBksiiCTGLmM"
      },
      "source": [
        "Novamente, é importante ressaltar que é óbvio que você não chamaria a função com um valor negativo. Também é óbvio que você não criaria um vendedor que possui um valor de porcentagem de venda tão absurdo. Porém, imagine que o valor de venda é calculado por uma outra função criada por outra pessoa, ou está armazenada em um banco de dados remoto. Ou, imagine que o valor da porcentagem é calculado também por outra função de acordo com dados do funcionário.\n",
        "\n",
        "Outro ponto importante a se notar é que embora seja um caso absurdo, nenhum erro foi gerado no programa. Isso significa que ele continuou sendo executado normalmente e pode ter causado diversos problemas."
      ]
    },
    {
      "cell_type": "markdown",
      "metadata": {
        "id": "xB6CqWzhGiun"
      },
      "source": [
        "Para solucionar os problemas acima, nós podemos utilizar o comando `assert`, pensando na condição que deverá sempre ser satisfeita:"
      ]
    },
    {
      "cell_type": "code",
      "metadata": {
        "id": "YMREdODLIFS8"
      },
      "source": [
        "def comissao_com_assert(vendedor, venda):\n",
        "    \"\"\"\n",
        "    Calcula o valor da comissão de venda de acordo com o valor da venda e \n",
        "    porcentagem de comissão\n",
        "    \"\"\"\n",
        "    \n",
        "    comissao = venda * (vendedor.porcentagem_comissao / 100.0)\n",
        "\n",
        "    assert 0 < comissao < venda, \"Valor de comissão incorreto\"\n",
        "\n",
        "    return comissao"
      ],
      "execution_count": 65,
      "outputs": []
    },
    {
      "cell_type": "markdown",
      "metadata": {
        "id": "y_snqNBMIwJd"
      },
      "source": [
        "Agora que temos uma função que garante que o valor da comissão calculado será positivo e menor do que o valor da venda.\n",
        "\n",
        "Vamos testar a função novamente:"
      ]
    },
    {
      "cell_type": "code",
      "metadata": {
        "colab": {
          "base_uri": "https://localhost:8080/",
          "height": 327
        },
        "id": "bJIRRT-wJN6P",
        "outputId": "12e8057e-6cd0-4546-c440-0cb9408ac744"
      },
      "source": [
        "# Chamando a função com valores incorretos\n",
        "\n",
        "# Vamos criar agora uma vendedora chamada Ana\n",
        "vendedora_ana = Vendedor(\"Ana Almeida\", 54321, 14)\n",
        "\n",
        "# A Ana fez uma venda de R$600,00, porém, o valor que será passado para a função\n",
        "# que calcula a comissão será -600, por algum erro que aconteceu no meio do \n",
        "# processo\n",
        "valor_de_venda_ana = -600\n",
        "\n",
        "# Cálculo da comissão\n",
        "comissao_com_assert(vendedora_ana, valor_de_venda_ana)"
      ],
      "execution_count": 72,
      "outputs": [
        {
          "output_type": "error",
          "ename": "AssertionError",
          "evalue": "ignored",
          "traceback": [
            "\u001b[0;31m---------------------------------------------------------------------------\u001b[0m",
            "\u001b[0;31mAssertionError\u001b[0m                            Traceback (most recent call last)",
            "\u001b[0;32m<ipython-input-72-094b11100fc4>\u001b[0m in \u001b[0;36m<module>\u001b[0;34m()\u001b[0m\n\u001b[1;32m     10\u001b[0m \u001b[0;34m\u001b[0m\u001b[0m\n\u001b[1;32m     11\u001b[0m \u001b[0;31m# Cálculo da comissão\u001b[0m\u001b[0;34m\u001b[0m\u001b[0;34m\u001b[0m\u001b[0;34m\u001b[0m\u001b[0m\n\u001b[0;32m---> 12\u001b[0;31m \u001b[0mcomissao_com_assert\u001b[0m\u001b[0;34m(\u001b[0m\u001b[0mvendedora_ana\u001b[0m\u001b[0;34m,\u001b[0m \u001b[0mvalor_de_venda_ana\u001b[0m\u001b[0;34m)\u001b[0m\u001b[0;34m\u001b[0m\u001b[0;34m\u001b[0m\u001b[0m\n\u001b[0m",
            "\u001b[0;32m<ipython-input-65-9ce962ae5dab>\u001b[0m in \u001b[0;36mcomissao_com_assert\u001b[0;34m(vendedor, venda)\u001b[0m\n\u001b[1;32m      7\u001b[0m     \u001b[0mcomissao\u001b[0m \u001b[0;34m=\u001b[0m \u001b[0mvenda\u001b[0m \u001b[0;34m*\u001b[0m \u001b[0;34m(\u001b[0m\u001b[0mvendedor\u001b[0m\u001b[0;34m.\u001b[0m\u001b[0mporcentagem_comissao\u001b[0m \u001b[0;34m/\u001b[0m \u001b[0;36m100.0\u001b[0m\u001b[0;34m)\u001b[0m\u001b[0;34m\u001b[0m\u001b[0;34m\u001b[0m\u001b[0m\n\u001b[1;32m      8\u001b[0m \u001b[0;34m\u001b[0m\u001b[0m\n\u001b[0;32m----> 9\u001b[0;31m     \u001b[0;32massert\u001b[0m \u001b[0;36m0\u001b[0m \u001b[0;34m<\u001b[0m \u001b[0mcomissao\u001b[0m \u001b[0;34m<\u001b[0m \u001b[0mvenda\u001b[0m\u001b[0;34m,\u001b[0m \u001b[0;34m\"Valor de comissão incorreto\"\u001b[0m\u001b[0;34m\u001b[0m\u001b[0;34m\u001b[0m\u001b[0m\n\u001b[0m\u001b[1;32m     10\u001b[0m \u001b[0;34m\u001b[0m\u001b[0m\n\u001b[1;32m     11\u001b[0m     \u001b[0;32mreturn\u001b[0m \u001b[0mcomissao\u001b[0m\u001b[0;34m\u001b[0m\u001b[0;34m\u001b[0m\u001b[0m\n",
            "\u001b[0;31mAssertionError\u001b[0m: Valor de comissão incorreto"
          ]
        }
      ]
    },
    {
      "cell_type": "markdown",
      "metadata": {
        "id": "nRitz5U1J34g"
      },
      "source": [
        "Problema resolvido. Em vez da função ser executada com erros silenciosos, nós temos a certeza de que algo bem errado aconteceu em nosso código."
      ]
    },
    {
      "cell_type": "code",
      "metadata": {
        "colab": {
          "base_uri": "https://localhost:8080/",
          "height": 327
        },
        "id": "WM2YhwJTKBk-",
        "outputId": "8c38cabd-e237-48df-b410-b8eead3fec19"
      },
      "source": [
        "# Vendedor com porcentagem de comissão errado\n",
        "\n",
        "# Imagine que a função que calcula a porcentagem de venda por vendedor, calculou \n",
        "# o valor de -43 para o vendedor Alfredo\n",
        "vendedor_alfredo = Vendedor(\"Alfredo Matos\", 55555, -43)\n",
        "venda_alfredo = 9000\n",
        "\n",
        "# Cálculo da comissão\n",
        "comissao_com_assert(vendedor_alfredo, venda_alfredo)"
      ],
      "execution_count": 73,
      "outputs": [
        {
          "output_type": "error",
          "ename": "AssertionError",
          "evalue": "ignored",
          "traceback": [
            "\u001b[0;31m---------------------------------------------------------------------------\u001b[0m",
            "\u001b[0;31mAssertionError\u001b[0m                            Traceback (most recent call last)",
            "\u001b[0;32m<ipython-input-73-fbb7abec109e>\u001b[0m in \u001b[0;36m<module>\u001b[0;34m()\u001b[0m\n\u001b[1;32m      7\u001b[0m \u001b[0;34m\u001b[0m\u001b[0m\n\u001b[1;32m      8\u001b[0m \u001b[0;31m# Cálculo da comissão\u001b[0m\u001b[0;34m\u001b[0m\u001b[0;34m\u001b[0m\u001b[0;34m\u001b[0m\u001b[0m\n\u001b[0;32m----> 9\u001b[0;31m \u001b[0mcomissao_com_assert\u001b[0m\u001b[0;34m(\u001b[0m\u001b[0mvendedor_alfredo\u001b[0m\u001b[0;34m,\u001b[0m \u001b[0mvenda_alfredo\u001b[0m\u001b[0;34m)\u001b[0m\u001b[0;34m\u001b[0m\u001b[0;34m\u001b[0m\u001b[0m\n\u001b[0m",
            "\u001b[0;32m<ipython-input-65-9ce962ae5dab>\u001b[0m in \u001b[0;36mcomissao_com_assert\u001b[0;34m(vendedor, venda)\u001b[0m\n\u001b[1;32m      7\u001b[0m     \u001b[0mcomissao\u001b[0m \u001b[0;34m=\u001b[0m \u001b[0mvenda\u001b[0m \u001b[0;34m*\u001b[0m \u001b[0;34m(\u001b[0m\u001b[0mvendedor\u001b[0m\u001b[0;34m.\u001b[0m\u001b[0mporcentagem_comissao\u001b[0m \u001b[0;34m/\u001b[0m \u001b[0;36m100.0\u001b[0m\u001b[0;34m)\u001b[0m\u001b[0;34m\u001b[0m\u001b[0;34m\u001b[0m\u001b[0m\n\u001b[1;32m      8\u001b[0m \u001b[0;34m\u001b[0m\u001b[0m\n\u001b[0;32m----> 9\u001b[0;31m     \u001b[0;32massert\u001b[0m \u001b[0;36m0\u001b[0m \u001b[0;34m<\u001b[0m \u001b[0mcomissao\u001b[0m \u001b[0;34m<\u001b[0m \u001b[0mvenda\u001b[0m\u001b[0;34m,\u001b[0m \u001b[0;34m\"Valor de comissão incorreto\"\u001b[0m\u001b[0;34m\u001b[0m\u001b[0;34m\u001b[0m\u001b[0m\n\u001b[0m\u001b[1;32m     10\u001b[0m \u001b[0;34m\u001b[0m\u001b[0m\n\u001b[1;32m     11\u001b[0m     \u001b[0;32mreturn\u001b[0m \u001b[0mcomissao\u001b[0m\u001b[0;34m\u001b[0m\u001b[0;34m\u001b[0m\u001b[0m\n",
            "\u001b[0;31mAssertionError\u001b[0m: Valor de comissão incorreto"
          ]
        }
      ]
    },
    {
      "cell_type": "markdown",
      "metadata": {
        "id": "yckX-6-rKEQO"
      },
      "source": [
        "Mais uma vez, em vez de acontecer um erro silencioso que poderia ser extremamente difícil de encontrar dentro de um sistema, fica extremamente fácil saber onde e porque ocorreu o problema."
      ]
    },
    {
      "cell_type": "markdown",
      "metadata": {
        "id": "BP1SnAHhKSxt"
      },
      "source": [
        "## Quando usar?\n",
        "\n",
        "Se você sabe como funciona o comando `if` ou como tratar exceções com os blocos `try` e `except`, talvez você esteja se perguntando: \n",
        "\n",
        "> Por que eu preciso saber sobre o comando `assert` se eu posso testar essas condições de outras maneiras?\n",
        "\n",
        "A resposta é simples: as condições testadas pelo comando `assert` não são condições esperadas, não são condições que podem acontecer rotineiramente e que devem ser tratadas no código. Pelo contrário, devem ser condições que jamais devem acontecer, e, se acontecerem, é porque um erro, um bug, ocorreu durante a execução do seu programa. \n",
        "\n",
        "O comando `assert` não deve ser tratado apenas como mais uma ferramente de tratamento de exceções que acontecem durante a execução de programas. É uma ferramenta de debug que facilita a nossa vida por indicar qual pode ser a causa raiz de um problema."
      ]
    },
    {
      "cell_type": "markdown",
      "metadata": {
        "id": "D1G3pwZsL6sN"
      },
      "source": [
        "## Quando não usar\n",
        "\n",
        "O comando `assert` nunca deve ser usado para validação de dados.\n",
        "\n",
        "É por esse motivo que nós não programamos algo do tipo no exemplo anterior:\n",
        "\n",
        "```python\n",
        "\n",
        "def comissao_com_assert(vendedor, venda):\n",
        "\n",
        "    assert venda > 0\n",
        "    assert 0 < vendedor.porcentagem_comissao < 100\n",
        "    ...\n",
        "```\n",
        "\n",
        "Repetindo: **O comando `assert` não deve ser utilizado como uma ferramenta de validação de dados**"
      ]
    },
    {
      "cell_type": "markdown",
      "metadata": {
        "id": "6pWAW5f8SXQJ"
      },
      "source": [
        "### Por que não?\n",
        "\n",
        "Porque para que o comando `assert` seja validado, a variável global `__debug__` deverá ser `True`.Caso contrário, todos os comandos `assert` serão ignorados pelo interpretador Python.\n",
        "\n",
        "Normalmente, o valor dessa variável é verdadeiro, mas poderá não ser se especificado. E jamais podemos deixar que a validação de dados dos nossos programas possam ser desabilitadas, afinal, eles precisam delas para funcionar."
      ]
    },
    {
      "cell_type": "code",
      "metadata": {
        "id": "TJwOiNJPS4x4"
      },
      "source": [
        ""
      ],
      "execution_count": null,
      "outputs": []
    }
  ]
}